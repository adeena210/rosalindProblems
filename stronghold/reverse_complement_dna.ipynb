{
 "cells": [
  {
   "cell_type": "markdown",
   "source": [
    "# [Complementing a Strand of DNA](https://rosalind.info/problems/revc/)"
   ],
   "metadata": {
    "collapsed": false
   },
   "id": "4c70b966091d8a08"
  },
  {
   "cell_type": "code",
   "execution_count": 79,
   "id": "372f14c2-277b-43f8-81e1-2cddab916231",
   "metadata": {
    "ExecuteTime": {
     "end_time": "2025-03-10T00:55:25.657085Z",
     "start_time": "2025-03-10T00:55:25.651524Z"
    }
   },
   "outputs": [],
   "source": [
    "def reverse_complement_naive(dna_string):\n",
    "    if not dna_string: \n",
    "        return \"Invalid string.\"\n",
    "    dna_string = dna_string[::-1]\n",
    "    for i in range(len(dna_string)):\n",
    "        #inefficient since new strings are created multiple times in loop\n",
    "        if dna_string[i] == 'A':\n",
    "            dna_string = dna_string[:i] + 'T' + dna_string[i+1::]\n",
    "        elif dna_string[i] == 'T':\n",
    "            dna_string = dna_string[:i] + 'A' + dna_string[i+1::]\n",
    "        elif dna_string[i] == 'C':\n",
    "            dna_string = dna_string[:i] + 'G' + dna_string[i+1::]\n",
    "        elif dna_string[i] == 'G':\n",
    "            dna_string = dna_string[:i] + 'C' + dna_string[i+1::]\n",
    "    return dna_string "
   ]
  },
  {
   "cell_type": "code",
   "execution_count": 64,
   "id": "e3bdb928-7e58-4caf-805f-54a0bd80121a",
   "metadata": {
    "ExecuteTime": {
     "end_time": "2025-03-10T00:42:59.264589Z",
     "start_time": "2025-03-10T00:42:59.258203Z"
    }
   },
   "outputs": [],
   "source": [
    "def reverse_complement_list_comprehension(dna_string):\n",
    "    if not dna_string: \n",
    "        return \"Invalid string.\"\n",
    "    dna_string = dna_string[::-1]\n",
    "    complement_dict = {'A':'T', 'T':'A', 'C':'G', 'G': 'C'}\n",
    "    complemented = ''.join([complement_dict.get(base, base) for base in dna_string])\n",
    "    return complemented"
   ]
  },
  {
   "cell_type": "code",
   "outputs": [],
   "source": [
    "def reverse_complement_generator(dna_string):\n",
    "    if not dna_string:\n",
    "        return \"Invalid string.\"\n",
    "    complementDict = {'A':'T', 'T':'A', 'C':'G', 'G': 'C'}\n",
    "    return ''.join(complementDict.get(base, base) for base in reversed(dna_string))"
   ],
   "metadata": {
    "collapsed": false,
    "ExecuteTime": {
     "end_time": "2025-03-10T00:42:59.274103Z",
     "start_time": "2025-03-10T00:42:59.267624Z"
    }
   },
   "id": "39a132b2641d6a40",
   "execution_count": 65
  },
  {
   "cell_type": "code",
   "outputs": [],
   "source": [
    "from utils import dna_utils"
   ],
   "metadata": {
    "collapsed": false,
    "ExecuteTime": {
     "end_time": "2025-03-10T00:42:59.281868Z",
     "start_time": "2025-03-10T00:42:59.278551Z"
    }
   },
   "id": "8810ccfe6ed440b9",
   "execution_count": 66
  },
  {
   "cell_type": "code",
   "outputs": [],
   "source": [
    "dna_string = dna_utils.read_dna_from_txt_file(\"../data/rosalind_revc.txt\")"
   ],
   "metadata": {
    "collapsed": false,
    "ExecuteTime": {
     "end_time": "2025-03-10T00:42:59.293153Z",
     "start_time": "2025-03-10T00:42:59.288121Z"
    }
   },
   "id": "504ef9957279607a",
   "execution_count": 67
  },
  {
   "cell_type": "code",
   "outputs": [
    {
     "name": "stdout",
     "output_type": "stream",
     "text": [
      "function reverse_complement_naive: time: 1.1339187622070312, dna_length: 909\n",
      "('Total Memory Usage: 1091.0KB', 'Peak Memory Usage: 3.958984375KB')\n",
      "function reverse_complement_list_comprehension: time: 0.07605552673339844, dna_length: 909\n",
      "('Total Memory Usage: 56.0KB', 'Peak Memory Usage: 9.50390625KB')\n",
      "function reverse_complement_generator: time: 0.12421607971191406, dna_length: 909\n",
      "('Total Memory Usage: 56.0KB', 'Peak Memory Usage: 8.833984375KB')\n"
     ]
    }
   ],
   "source": [
    "print(dna_utils.benchmark(reverse_complement_naive, dna_string))\n",
    "print(dna_utils.benchmark_memory(reverse_complement_naive, dna_string))\n",
    "print(dna_utils.benchmark(reverse_complement_list_comprehension, dna_string))\n",
    "print(dna_utils.benchmark_memory(reverse_complement_list_comprehension, dna_string))\n",
    "print(dna_utils.benchmark(reverse_complement_generator, dna_string))\n",
    "print(dna_utils.benchmark_memory(reverse_complement_generator, dna_string))"
   ],
   "metadata": {
    "collapsed": false,
    "ExecuteTime": {
     "end_time": "2025-03-10T00:42:59.465919Z",
     "start_time": "2025-03-10T00:42:59.305584Z"
    }
   },
   "id": "366c860993da9bbd",
   "execution_count": 68
  },
  {
   "cell_type": "code",
   "outputs": [
    {
     "name": "stdout",
     "output_type": "stream",
     "text": [
      "function reverse_complement_naive: time: 18.25118064880371, dna_length: 10000\n",
      "('Total Memory Usage: 56.0KB', 'Peak Memory Usage: 29.58203125KB')\n",
      "function reverse_complement_list_comprehension: time: 0.6330013275146484, dna_length: 10000\n",
      "('Total Memory Usage: 112.0KB', 'Peak Memory Usage: 102.845703125KB')\n",
      "function reverse_complement_generator: time: 1.3058185577392578, dna_length: 10000\n",
      "('Total Memory Usage: 160.0KB', 'Peak Memory Usage: 93.3447265625KB')\n"
     ]
    }
   ],
   "source": [
    "dna_string = dna_utils.create_dna_string(10000)\n",
    "print(dna_utils.benchmark(reverse_complement_naive, dna_string))\n",
    "print(dna_utils.benchmark_memory(reverse_complement_naive, dna_string))\n",
    "print(dna_utils.benchmark(reverse_complement_list_comprehension, dna_string))\n",
    "print(dna_utils.benchmark_memory(reverse_complement_list_comprehension, dna_string))\n",
    "print(dna_utils.benchmark(reverse_complement_generator, dna_string))\n",
    "print(dna_utils.benchmark_memory(reverse_complement_generator, dna_string))"
   ],
   "metadata": {
    "collapsed": false,
    "ExecuteTime": {
     "end_time": "2025-03-10T00:43:40.252380Z",
     "start_time": "2025-03-10T00:43:40.018370Z"
    }
   },
   "id": "6db0ff808abe00a9",
   "execution_count": 72
  },
  {
   "cell_type": "code",
   "outputs": [
    {
     "name": "stdout",
     "output_type": "stream",
     "text": [
      "function reverse_complement_naive: time: 1182.168960571289, dna_length: 100000\n",
      "('Total Memory Usage: 1222.0KB', 'Peak Memory Usage: 296.21484375KB')\n",
      "function reverse_complement_list_comprehension: time: 6.625890731811523, dna_length: 100000\n",
      "('Total Memory Usage: 112.0KB', 'Peak Memory Usage: 977.658203125KB')\n",
      "function reverse_complement_generator: time: 10.465145111083984, dna_length: 100000\n",
      "('Total Memory Usage: 160.0KB', 'Peak Memory Usage: 880.2666015625KB')\n"
     ]
    }
   ],
   "source": [
    "dna_string = dna_utils.create_dna_string(100000)\n",
    "print(dna_utils.benchmark(reverse_complement_naive, dna_string))\n",
    "print(dna_utils.benchmark_memory(reverse_complement_naive, dna_string))\n",
    "print(dna_utils.benchmark(reverse_complement_list_comprehension, dna_string))\n",
    "print(dna_utils.benchmark_memory(reverse_complement_list_comprehension, dna_string))\n",
    "print(dna_utils.benchmark(reverse_complement_generator, dna_string))\n",
    "print(dna_utils.benchmark_memory(reverse_complement_generator, dna_string))"
   ],
   "metadata": {
    "collapsed": false,
    "ExecuteTime": {
     "end_time": "2025-03-10T00:44:27.999870Z",
     "start_time": "2025-03-10T00:44:24.793132Z"
    }
   },
   "id": "fc3fc9e885a91601",
   "execution_count": 77
  },
  {
   "cell_type": "code",
   "outputs": [
    {
     "name": "stdout",
     "output_type": "stream",
     "text": [
      "function reverse_complement_naive: time: 108399.17182922363, dna_length: 1000000\n",
      "('Total Memory Usage: 2663.0KB', 'Peak Memory Usage: 2932.9375KB')\n",
      "function reverse_complement_list_comprehension: time: 44.48819160461426, dna_length: 1000000\n",
      "('Total Memory Usage: 112.0KB', 'Peak Memory Usage: 10203.970703125KB')\n",
      "function reverse_complement_generator: time: 67.87610054016113, dna_length: 1000000\n",
      "('Total Memory Usage: 854.0KB', 'Peak Memory Usage: 9228.3505859375KB')\n"
     ]
    }
   ],
   "source": [
    "dna_string = dna_utils.create_dna_string(1000000)\n",
    "print(dna_utils.benchmark(reverse_complement_naive, dna_string))\n",
    "print(dna_utils.benchmark_memory(reverse_complement_naive, dna_string))\n",
    "print(dna_utils.benchmark(reverse_complement_list_comprehension, dna_string))\n",
    "print(dna_utils.benchmark_memory(reverse_complement_list_comprehension, dna_string))\n",
    "print(dna_utils.benchmark(reverse_complement_generator, dna_string))\n",
    "print(dna_utils.benchmark_memory(reverse_complement_generator, dna_string))"
   ],
   "metadata": {
    "collapsed": false,
    "ExecuteTime": {
     "end_time": "2025-03-10T00:48:17.526642Z",
     "start_time": "2025-03-10T00:44:35.445638Z"
    }
   },
   "id": "45edb705591e60b1",
   "execution_count": 78
  },
  {
   "cell_type": "markdown",
   "source": [
    "## Benchmark Results:\n",
    "## 1. Rosalind test DNA string (854 bases)\n",
    "    function reverse_complement_naive: time: 1.1339187622070312, dna_length: 909\n",
    "    ('Current Memory Usage: 1091.0KB', 'Peak Memory Usage: 3.958984375KB')\n",
    "    function reverse_complement_list_comprehension: time: 0.07605552673339844, dna_length: 909\n",
    "    ('Current Memory Usage: 56.0KB', 'Peak Memory Usage: 9.50390625KB')\n",
    "    function reverse_complement_generator: time: 0.12421607971191406, dna_length: 909\n",
    "    ('Current Memory Usage: 56.0KB', 'Peak Memory Usage: 8.833984375KB')\n",
    "\n",
    "## 2. Generated DNA string (10,000 bases)\n",
    "    function reverse_complement_naive: time: 18.25118064880371, dna_length: 10000\n",
    "    ('Current Memory Usage: 56.0KB', 'Peak Memory Usage: 29.58203125KB')\n",
    "    function reverse_complement_list_comprehension: time: 0.6330013275146484, dna_length: 10000\n",
    "    ('Current Memory Usage: 112.0KB', 'Peak Memory Usage: 102.845703125KB')\n",
    "    function reverse_complement_generator: time: 1.3058185577392578, dna_length: 10000\n",
    "    ('Current Memory Usage: 160.0KB', 'Peak Memory Usage: 93.3447265625KB')\n",
    "\n",
    "## 3. Generated DNA string (100,000 bases)\n",
    "    function reverse_complement_naive: time: 1182.168960571289, dna_length: 100000\n",
    "    ('Current Memory Usage: 1222.0KB', 'Peak Memory Usage: 296.21484375KB')\n",
    "    function reverse_complement_list_comprehension: time: 6.625890731811523, dna_length: 100000\n",
    "    ('Current Memory Usage: 112.0KB', 'Peak Memory Usage: 977.658203125KB')\n",
    "    function reverse_complement_generator: time: 10.465145111083984, dna_length: 100000\n",
    "    ('Current Memory Usage: 160.0KB', 'Peak Memory Usage: 880.2666015625KB')\n",
    "\n",
    "\n",
    "## 4. Generated DNA string (1,000,000 bases)   \n",
    "    function reverse_complement_naive: time: 108399.17182922363, dna_length: 1000000\n",
    "    ('Current Memory Usage: 2663.0KB', 'Peak Memory Usage: 2932.9375KB')\n",
    "    function reverse_complement_list_comprehension: time: 44.48819160461426, dna_length: 1000000\n",
    "    ('Current Memory Usage: 112.0KB', 'Peak Memory Usage: 10203.970703125KB')\n",
    "    function reverse_complement_generator: time: 67.87610054016113, dna_length: 1000000\n",
    "    ('Current Memory Usage: 854.0KB', 'Peak Memory Usage: 9228.3505859375KB')\n",
    "    \n",
    "\n",
    "\n",
    "## Result:\n",
    "### Time: \n",
    "reverse_complement_list_comprehension < reverse_complement_generator << reverse_complement_naive\n",
    "### Memory Retention: \n",
    "reverse_complement_list_comprehension < reverse_complement_generator << reverse_complement_naive\n",
    "### Peak Memory: \n",
    "reverse_complement_naive << reverse_complement_generator < reverse_complement_list_comprehension  \n",
    "### Reasoning: \n",
    "Naive method is the worst due to several reasons:\n",
    "- Python for loop is generally slower than list comprehension, because list comprehension implementation is optimized under the hood\n",
    "- ''.join is much more performant than creating a new string in each for loop since join is implemented in C, and strings are immutable in Python. String slicing is also generally O(n) in Python.\n",
    "\n",
    "When comparing the list comprehension method vs the generator method, it is important to consider the execution steps:\n",
    "- List comprehension: \n",
    "    1. List comprehension executes, and the list is created and stored in memory\n",
    "    2. The Join operator iterates over each element in the list and adds it to the running string\n",
    "    \n",
    "- Generators:\n",
    "    1. Generator function is created\n",
    "    2. Join operator requests each item from the generator \n",
    "    3. For each request, the generator executes the next iteration and returns the value\n",
    "    4. Join add this to the running string, and moves on to the next item returned by the generator until it is exhausted\n",
    "\n",
    "The generative method may appear to be slower because the generator runs the iterator function each time, but its peak memory usage is much lower which can be especially useful for large DNA strings. For context, a DNA string is on average ~3 billion bases long. However, memory retention for the generator operation at 1,000,000 bases is relatively higher showing that it may benefit from better garbage collection.  \n"
   ],
   "metadata": {
    "collapsed": false
   },
   "id": "8c76d96f51550517"
  }
 ],
 "metadata": {
  "kernelspec": {
   "display_name": "Python 3 (ipykernel)",
   "language": "python",
   "name": "python3"
  },
  "language_info": {
   "codemirror_mode": {
    "name": "ipython",
    "version": 3
   },
   "file_extension": ".py",
   "mimetype": "text/x-python",
   "name": "python",
   "nbconvert_exporter": "python",
   "pygments_lexer": "ipython3",
   "version": "3.11.0"
  }
 },
 "nbformat": 4,
 "nbformat_minor": 5
}
