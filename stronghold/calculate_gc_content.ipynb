{
 "cells": [
  {
   "cell_type": "markdown",
   "source": [
    "# [Calculating GC content](https://rosalind.info/problems/gc/) "
   ],
   "metadata": {
    "collapsed": false
   },
   "id": "9b8cf56a8e4fea2f"
  },
  {
   "cell_type": "code",
   "outputs": [],
   "source": [
    "from utils import dna_utils\n"
   ],
   "metadata": {
    "collapsed": false,
    "ExecuteTime": {
     "end_time": "2025-03-10T03:44:03.142404Z",
     "start_time": "2025-03-10T03:44:03.131436Z"
    }
   },
   "id": "86373649c8e96f36",
   "execution_count": 1
  },
  {
   "cell_type": "code",
   "outputs": [],
   "source": [
    "dna_dict = dna_utils.read_dna_from_fasta_file(\"../data/rosalind_gc.txt\")"
   ],
   "metadata": {
    "collapsed": false,
    "ExecuteTime": {
     "end_time": "2025-03-10T03:44:03.150441Z",
     "start_time": "2025-03-10T03:44:03.145639Z"
    }
   },
   "id": "f1a680e644e4a618",
   "execution_count": 2
  },
  {
   "cell_type": "code",
   "outputs": [],
   "source": [
    "def calculate_gc_content(dna_string):\n",
    "    if not dna_string:\n",
    "        return \"Invalid DNA string\"\n",
    "    num_G = dna_string.count('G')\n",
    "    num_C = dna_string.count('C')\n",
    "    return (num_G + num_C )/float(len(dna_string))*100"
   ],
   "metadata": {
    "collapsed": false,
    "ExecuteTime": {
     "end_time": "2025-03-10T03:44:03.159961Z",
     "start_time": "2025-03-10T03:44:03.154344Z"
    }
   },
   "id": "e7d2fe77721b6077",
   "execution_count": 3
  },
  {
   "cell_type": "code",
   "outputs": [
    {
     "name": "stdout",
     "output_type": "stream",
     "text": [
      "Rosalind_4618 50.89192025183631\n",
      "Rosalind_0861 47.855530474040634\n",
      "Rosalind_7724 50.175438596491226\n",
      "Rosalind_4692 49.68789013732834\n",
      "Rosalind_9657 53.0\n"
     ]
    }
   ],
   "source": [
    "for id, dna in dna_dict.items():\n",
    "    print(id, calculate_gc_content(dna))"
   ],
   "metadata": {
    "collapsed": false,
    "ExecuteTime": {
     "end_time": "2025-03-10T03:44:03.167821Z",
     "start_time": "2025-03-10T03:44:03.162223Z"
    }
   },
   "id": "a2829ce072969bf7",
   "execution_count": 4
  },
  {
   "cell_type": "code",
   "outputs": [
    {
     "name": "stdout",
     "output_type": "stream",
     "text": [
      "function calculate_gc_content: time: 0.07295608520507812, dna_length: 10000\n",
      "('Current Memory Usage: 0.0KB', 'Peak Memory Usage: 0.11328125KB')\n"
     ]
    }
   ],
   "source": [
    "dna_string = dna_utils.create_dna_string(10000)\n",
    "print(dna_utils.benchmark(calculate_gc_content, dna_string))\n",
    "print(dna_utils.benchmark_memory(calculate_gc_content, dna_string))"
   ],
   "metadata": {
    "collapsed": false,
    "ExecuteTime": {
     "end_time": "2025-03-10T03:44:03.224964Z",
     "start_time": "2025-03-10T03:44:03.171948Z"
    }
   },
   "id": "cb50bb12c60f218c",
   "execution_count": 5
  },
  {
   "cell_type": "code",
   "outputs": [
    {
     "name": "stdout",
     "output_type": "stream",
     "text": [
      "function calculate_gc_content: time: 0.6668567657470703, dna_length: 100000\n",
      "('Current Memory Usage: 125.138671875KB', 'Peak Memory Usage: 912.9072265625KB')\n"
     ]
    }
   ],
   "source": [
    "dna_string = dna_utils.create_dna_string(100000)\n",
    "print(dna_utils.benchmark(calculate_gc_content, dna_string))\n",
    "print(dna_utils.benchmark_memory(calculate_gc_content, dna_string))"
   ],
   "metadata": {
    "collapsed": false,
    "ExecuteTime": {
     "end_time": "2025-03-10T03:44:03.486015Z",
     "start_time": "2025-03-10T03:44:03.228588Z"
    }
   },
   "id": "293da5248fb3c4ea",
   "execution_count": 6
  },
  {
   "cell_type": "code",
   "outputs": [
    {
     "name": "stdout",
     "output_type": "stream",
     "text": [
      "function calculate_gc_content: time: 6.369113922119141, dna_length: 1000000\n",
      "('Current Memory Usage: 1014.21875KB', 'Peak Memory Usage: 9368.88671875KB')\n"
     ]
    }
   ],
   "source": [
    "dna_string = dna_utils.create_dna_string(1000000)\n",
    "print(dna_utils.benchmark(calculate_gc_content, dna_string))\n",
    "print(dna_utils.benchmark_memory(calculate_gc_content, dna_string))"
   ],
   "metadata": {
    "collapsed": false,
    "ExecuteTime": {
     "end_time": "2025-03-10T03:44:05.341955Z",
     "start_time": "2025-03-10T03:44:03.491381Z"
    }
   },
   "id": "f36f4d7ae749d6a9",
   "execution_count": 7
  },
  {
   "cell_type": "code",
   "outputs": [
    {
     "name": "stdout",
     "output_type": "stream",
     "text": [
      "function calculate_gc_content: time: 65.02389907836914, dna_length: 10000000\n",
      "('Current Memory Usage: 9813.193359375KB', 'Peak Memory Usage: 97803.529296875KB')\n"
     ]
    }
   ],
   "source": [
    "dna_string = dna_utils.create_dna_string(10000000)\n",
    "print(dna_utils.benchmark(calculate_gc_content, dna_string))\n",
    "print(dna_utils.benchmark_memory(calculate_gc_content, dna_string))"
   ],
   "metadata": {
    "collapsed": false,
    "ExecuteTime": {
     "end_time": "2025-03-10T03:44:22.009209Z",
     "start_time": "2025-03-10T03:44:05.345889Z"
    }
   },
   "id": "4acc0e2a5b45c81f",
   "execution_count": 8
  },
  {
   "cell_type": "code",
   "outputs": [
    {
     "name": "stdout",
     "output_type": "stream",
     "text": [
      "function calculate_gc_content: time: 515.753984451294, dna_length: 100000000\n",
      "('Current Memory Usage: 97712.787109375KB', 'Peak Memory Usage: 923040.7880859375KB')\n"
     ]
    }
   ],
   "source": [
    "dna_string = dna_utils.create_dna_string(100000000)\n",
    "print(dna_utils.benchmark(calculate_gc_content, dna_string))\n",
    "print(dna_utils.benchmark_memory(calculate_gc_content, dna_string))"
   ],
   "metadata": {
    "collapsed": false,
    "ExecuteTime": {
     "end_time": "2025-03-10T03:46:53.339768Z",
     "start_time": "2025-03-10T03:44:22.014305Z"
    }
   },
   "id": "67fb6371b91b9676",
   "execution_count": 9
  },
  {
   "cell_type": "markdown",
   "source": [
    "# Benchmark Results:\n",
    "## 1. Generated DNA string (10000 bases)\n",
    "    function calculate_gc_content: time: 0.06890296936035156, dna_length: 10000\n",
    "    ('Current Memory Usage: 0.09375KB', 'Peak Memory Usage: 0.18359375KB')\n",
    "\n",
    "## 2. Generated DNA string (100000 bases)\n",
    "    function calculate_gc_content: time: 0.6668567657470703, dna_length: 100000\n",
    "    ('Current Memory Usage: 125.138671875KB', 'Peak Memory Usage: 912.9072265625KB')\n",
    "\n",
    "## 3. Generated DNA string (1000000 bases)\n",
    "    function calculate_gc_content: time: 6.369113922119141, dna_length: 1000000\n",
    "    ('Current Memory Usage: 1014.21875KB', 'Peak Memory Usage: 9368.88671875KB')\n",
    "\n",
    "## 4. Generated DNA string (10000000 bases)\n",
    "    function calculate_gc_content: time: 65.02389907836914, dna_length: 10000000\n",
    "    ('Current Memory Usage: 9813.193359375KB', 'Peak Memory Usage: 97803.529296875KB')\n",
    "\n",
    "## 5. Generated DNA string (100000000 bases)\n",
    "    function calculate_gc_content: time: 515.753984451294, dna_length: 100000000\n",
    "    ('Current Memory Usage: 97712.787109375KB', 'Peak Memory Usage: 923040.7880859375KB')"
   ],
   "metadata": {
    "collapsed": false
   },
   "id": "aae6b7d0b8a536d6",
   "execution_count": 9
  }
 ],
 "metadata": {
  "kernelspec": {
   "display_name": "Python 3",
   "language": "python",
   "name": "python3"
  },
  "language_info": {
   "codemirror_mode": {
    "name": "ipython",
    "version": 2
   },
   "file_extension": ".py",
   "mimetype": "text/x-python",
   "name": "python",
   "nbconvert_exporter": "python",
   "pygments_lexer": "ipython2",
   "version": "2.7.6"
  }
 },
 "nbformat": 4,
 "nbformat_minor": 5
}
