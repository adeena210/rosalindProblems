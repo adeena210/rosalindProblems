{
 "cells": [
  {
   "cell_type": "markdown",
   "source": [
    "## Transcribing DNA into RNA\n",
    "Link: https://rosalind.info/problems/rna/"
   ],
   "metadata": {
    "collapsed": false
   },
   "id": "a612622ca0f5b28a"
  },
  {
   "cell_type": "code",
   "outputs": [],
   "source": [
    "def transcribe_dna_2_rna(dna_string):\n",
    "    if not dna_string:\n",
    "        return \"Invalid String\"\n",
    "    dna_string = dna_string.upper()\n",
    "    return dna_string.replace('T', 'U')"
   ],
   "metadata": {
    "collapsed": false,
    "ExecuteTime": {
     "end_time": "2025-03-10T01:12:02.511512Z",
     "start_time": "2025-03-10T01:12:02.508296Z"
    }
   },
   "id": "c4f94ee25494f72b",
   "execution_count": 9
  },
  {
   "cell_type": "code",
   "outputs": [],
   "source": [
    "from utils import dna_utils"
   ],
   "metadata": {
    "collapsed": false,
    "ExecuteTime": {
     "end_time": "2025-03-10T01:12:02.546281Z",
     "start_time": "2025-03-10T01:12:02.543426Z"
    }
   },
   "id": "79d7a12a9496848c",
   "execution_count": 10
  },
  {
   "cell_type": "code",
   "outputs": [],
   "source": [
    "dna_string = dna_utils.read_dna_from_txt_file(\"../data/rosalind_rna.txt\")"
   ],
   "metadata": {
    "collapsed": false,
    "ExecuteTime": {
     "end_time": "2025-03-10T01:12:02.565920Z",
     "start_time": "2025-03-10T01:12:02.562339Z"
    }
   },
   "id": "f8535f9804b878a8",
   "execution_count": 11
  },
  {
   "cell_type": "code",
   "outputs": [
    {
     "name": "stdout",
     "output_type": "stream",
     "text": [
      "function transcribe_dna_2_rna: time: 0.009059906005859375, dna_length: 924\n"
     ]
    }
   ],
   "source": [
    "print(dna_utils.benchmark(transcribe_dna_2_rna, dna_string))"
   ],
   "metadata": {
    "collapsed": false,
    "ExecuteTime": {
     "end_time": "2025-03-10T01:12:02.572542Z",
     "start_time": "2025-03-10T01:12:02.568576Z"
    }
   },
   "id": "183c272fcd2def04",
   "execution_count": 12
  },
  {
   "cell_type": "code",
   "outputs": [
    {
     "name": "stdout",
     "output_type": "stream",
     "text": [
      "function transcribe_dna_2_rna: time: 0.06198883056640625, dna_length: 10000\n"
     ]
    }
   ],
   "source": [
    "print(dna_utils.benchmark(transcribe_dna_2_rna, dna_utils.create_dna_string(10000)))"
   ],
   "metadata": {
    "collapsed": false,
    "ExecuteTime": {
     "end_time": "2025-03-10T01:12:02.591079Z",
     "start_time": "2025-03-10T01:12:02.580201Z"
    }
   },
   "id": "53e1c71ad7b5b836",
   "execution_count": 13
  },
  {
   "cell_type": "code",
   "outputs": [
    {
     "name": "stdout",
     "output_type": "stream",
     "text": [
      "function transcribe_dna_2_rna: time: 0.6041526794433594, dna_length: 100000\n"
     ]
    }
   ],
   "source": [
    "print(dna_utils.benchmark(transcribe_dna_2_rna, dna_utils.create_dna_string(100000)))"
   ],
   "metadata": {
    "collapsed": false,
    "ExecuteTime": {
     "end_time": "2025-03-10T01:12:02.651235Z",
     "start_time": "2025-03-10T01:12:02.593400Z"
    }
   },
   "id": "67cf3207ae729466",
   "execution_count": 14
  },
  {
   "cell_type": "code",
   "outputs": [
    {
     "name": "stdout",
     "output_type": "stream",
     "text": [
      "function transcribe_dna_2_rna: time: 5.118131637573242, dna_length: 1000000\n"
     ]
    }
   ],
   "source": [
    "print(dna_utils.benchmark(transcribe_dna_2_rna, dna_utils.create_dna_string(1000000)))"
   ],
   "metadata": {
    "collapsed": false,
    "ExecuteTime": {
     "end_time": "2025-03-10T01:12:03.320384Z",
     "start_time": "2025-03-10T01:12:02.653079Z"
    }
   },
   "id": "fe184c30556ff175",
   "execution_count": 15
  },
  {
   "cell_type": "code",
   "outputs": [
    {
     "name": "stdout",
     "output_type": "stream",
     "text": [
      "function transcribe_dna_2_rna: time: 46.15283012390137, dna_length: 10000000\n"
     ]
    }
   ],
   "source": [
    "print(dna_utils.benchmark(transcribe_dna_2_rna, dna_utils.create_dna_string(10000000)))"
   ],
   "metadata": {
    "collapsed": false,
    "ExecuteTime": {
     "end_time": "2025-03-10T01:12:07.892529Z",
     "start_time": "2025-03-10T01:12:03.321958Z"
    }
   },
   "id": "e8c3792b65bc75d1",
   "execution_count": 16
  },
  {
   "cell_type": "markdown",
   "source": [
    "# Benchmark Results:\n",
    "    function transcribe_dna_2_rna: time: 0.007867813110351562, dna_length: 924\n",
    "    function transcribe_dna_2_rna: time: 0.04601478576660156, dna_length: 10000\n",
    "    function transcribe_dna_2_rna: time: 0.5469322204589844, dna_length: 100000\n",
    "    function transcribe_dna_2_rna: time: 4.536867141723633, dna_length: 1000000\n",
    "    function transcribe_dna_2_rna: time: 53.64203453063965, dna_length: 10000000\n",
    "\n",
    "## Reasoning: Python string methods are implemented in C, and hence are much faster than a Python implementation from scratch."
   ],
   "metadata": {
    "collapsed": false
   },
   "id": "b49934591944249a"
  }
 ],
 "metadata": {
  "kernelspec": {
   "display_name": "Python 3",
   "language": "python",
   "name": "python3"
  },
  "language_info": {
   "codemirror_mode": {
    "name": "ipython",
    "version": 2
   },
   "file_extension": ".py",
   "mimetype": "text/x-python",
   "name": "python",
   "nbconvert_exporter": "python",
   "pygments_lexer": "ipython2",
   "version": "2.7.6"
  }
 },
 "nbformat": 4,
 "nbformat_minor": 5
}
