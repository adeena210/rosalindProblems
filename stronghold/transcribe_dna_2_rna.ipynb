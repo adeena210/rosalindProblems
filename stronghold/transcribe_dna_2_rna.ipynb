{
 "cells": [
  {
   "cell_type": "markdown",
   "source": [
    "## Transcribing DNA into RNA\n",
    "Link: https://rosalind.info/problems/rna/"
   ],
   "metadata": {
    "collapsed": false
   }
  },
  {
   "cell_type": "code",
   "execution_count": 7,
   "metadata": {
    "ExecuteTime": {
     "end_time": "2025-03-09T21:59:39.641973Z",
     "start_time": "2025-03-09T21:59:39.638007Z"
    }
   },
   "outputs": [],
   "source": [
    "def transcribe_dna_2_rna(dna_string):\n",
    "    if not dna_string:\n",
    "        return \"Invalid String\"\n",
    "    dna_string = dna_string.upper()\n",
    "    return dna_string.replace('T', 'U')"
   ]
  },
  {
   "cell_type": "code",
   "execution_count": 8,
   "metadata": {
    "ExecuteTime": {
     "end_time": "2025-03-09T21:59:40.334956Z",
     "start_time": "2025-03-09T21:59:40.331774Z"
    }
   },
   "outputs": [],
   "source": [
    "from utils import dna_utils"
   ]
  },
  {
   "cell_type": "code",
   "execution_count": 9,
   "metadata": {
    "ExecuteTime": {
     "end_time": "2025-03-09T21:59:40.961247Z",
     "start_time": "2025-03-09T21:59:40.952887Z"
    }
   },
   "outputs": [],
   "source": [
    "dna_string = dna_utils.read_dna_from_txt_file(\"../data/rosalind_rna.txt\")"
   ]
  },
  {
   "cell_type": "code",
   "outputs": [
    {
     "name": "stdout",
     "output_type": "stream",
     "text": [
      "function transcribe_dna_2_rna: time: 0.007867813110351562, dna_length: 924\n"
     ]
    }
   ],
   "source": [
    "print(dna_utils.benchmark(transcribe_dna_2_rna, dna_string))"
   ],
   "metadata": {
    "collapsed": false,
    "ExecuteTime": {
     "end_time": "2025-03-09T21:59:55.475513Z",
     "start_time": "2025-03-09T21:59:55.471527Z"
    }
   },
   "execution_count": 11
  },
  {
   "cell_type": "code",
   "outputs": [
    {
     "name": "stdout",
     "output_type": "stream",
     "text": [
      "function transcribe_dna_2_rna: time: 0.04601478576660156, dna_length: 10000\n",
      "function transcribe_dna_2_rna: time: 0.5469322204589844, dna_length: 100000\n"
     ]
    }
   ],
   "source": [
    "print(dna_utils.benchmark(transcribe_dna_2_rna, dna_utils.create_dna_string(10000)))"
   ],
   "metadata": {
    "collapsed": false,
    "ExecuteTime": {
     "end_time": "2025-03-09T22:00:56.127369Z",
     "start_time": "2025-03-09T22:00:56.042889Z"
    }
   },
   "execution_count": 12
  },
  {
   "cell_type": "code",
   "outputs": [],
   "source": [
    "print(dna_utils.benchmark(transcribe_dna_2_rna, dna_utils.create_dna_string(100000)))"
   ],
   "metadata": {
    "collapsed": false
   }
  },
  {
   "cell_type": "code",
   "outputs": [
    {
     "name": "stdout",
     "output_type": "stream",
     "text": [
      "function transcribe_dna_2_rna: time: 4.536867141723633, dna_length: 1000000\n"
     ]
    }
   ],
   "source": [
    "print(dna_utils.benchmark(transcribe_dna_2_rna, dna_utils.create_dna_string(1000000)))"
   ],
   "metadata": {
    "collapsed": false,
    "ExecuteTime": {
     "end_time": "2025-03-09T22:01:50.870326Z",
     "start_time": "2025-03-09T22:01:50.348243Z"
    }
   },
   "execution_count": 13
  },
  {
   "cell_type": "code",
   "outputs": [
    {
     "name": "stdout",
     "output_type": "stream",
     "text": [
      "function transcribe_dna_2_rna: time: 53.64203453063965, dna_length: 10000000\n"
     ]
    }
   ],
   "source": [
    "print(dna_utils.benchmark(transcribe_dna_2_rna, dna_utils.create_dna_string(10000000)))"
   ],
   "metadata": {
    "collapsed": false,
    "ExecuteTime": {
     "end_time": "2025-03-09T22:02:35.509557Z",
     "start_time": "2025-03-09T22:02:30.564263Z"
    }
   },
   "execution_count": 14
  },
  {
   "cell_type": "markdown",
   "source": [
    "# Benchmark Results:\n",
    "function transcribe_dna_2_rna: time: 0.007867813110351562, dna_length: 924\n",
    "function transcribe_dna_2_rna: time: 0.04601478576660156, dna_length: 10000\n",
    "function transcribe_dna_2_rna: time: 0.5469322204589844, dna_length: 100000\n",
    "function transcribe_dna_2_rna: time: 4.536867141723633, dna_length: 1000000\n",
    "function transcribe_dna_2_rna: time: 53.64203453063965, dna_length: 10000000\n",
    "\n",
    "Reasoning: Python string methods are implemented in C, and hence are much faster than a Python implementation from scratch."
   ],
   "metadata": {
    "collapsed": false
   }
  }
 ],
 "metadata": {
  "kernelspec": {
   "display_name": "Python 3 (ipykernel)",
   "language": "python",
   "name": "python3"
  },
  "language_info": {
   "codemirror_mode": {
    "name": "ipython",
    "version": 3
   },
   "file_extension": ".py",
   "mimetype": "text/x-python",
   "name": "python",
   "nbconvert_exporter": "python",
   "pygments_lexer": "ipython3",
   "version": "3.11.0"
  }
 },
 "nbformat": 4,
 "nbformat_minor": 4
}
