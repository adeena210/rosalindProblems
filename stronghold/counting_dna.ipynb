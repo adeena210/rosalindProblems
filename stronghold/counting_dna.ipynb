{
 "cells": [
  {
   "cell_type": "markdown",
   "source": [
    "## [Counting DNA Nucleotides](https://rosalind.info/problems/dna/)"
   ],
   "metadata": {
    "collapsed": false
   }
  },
  {
   "cell_type": "code",
   "outputs": [],
   "source": [
    "def count_dna_naive(dna_string):\n",
    "    num_a = 0\n",
    "    num_g = 0\n",
    "    num_t = 0\n",
    "    num_c = 0\n",
    "    if dna_string is None:\n",
    "        return \"Invalid string.\"\n",
    "    dna_string = dna_string.upper()\n",
    "    for char in dna_string:\n",
    "        if char == \"A\":\n",
    "            num_a = num_a + 1\n",
    "        elif char == \"C\":\n",
    "            num_c = num_c + 1\n",
    "        elif char == \"G\":\n",
    "            num_g = num_g + 1\n",
    "        elif char == \"T\":\n",
    "            num_t = num_t + 1\n",
    "    return f\"{num_a} {num_c} {num_g} {num_t}\"\n"
   ],
   "metadata": {
    "ExecuteTime": {
     "end_time": "2025-03-09T21:10:38.664871Z",
     "start_time": "2025-03-09T21:10:38.658880Z"
    }
   },
   "execution_count": 9
  },
  {
   "cell_type": "code",
   "execution_count": 10,
   "metadata": {
    "ExecuteTime": {
     "end_time": "2025-03-09T21:10:40.367050Z",
     "start_time": "2025-03-09T21:10:40.362353Z"
    }
   },
   "outputs": [],
   "source": [
    "def count_dna_inbuilt(dna_string):\n",
    "    if dna_string is None:\n",
    "        return \"Invalid string.\"\n",
    "    dna_string = dna_string.upper()\n",
    "    num_a = dna_string.count('A')\n",
    "    num_g = dna_string.count('G')\n",
    "    num_t = dna_string.count('T')\n",
    "    num_c = dna_string.count('C')\n",
    "    return f\"{num_a} {num_c} {num_g} {num_t}\""
   ]
  },
  {
   "cell_type": "code",
   "execution_count": 11,
   "metadata": {
    "ExecuteTime": {
     "end_time": "2025-03-09T21:10:40.883001Z",
     "start_time": "2025-03-09T21:10:40.879614Z"
    }
   },
   "outputs": [],
   "source": [
    "from collections import Counter"
   ]
  },
  {
   "cell_type": "code",
   "execution_count": 12,
   "metadata": {
    "ExecuteTime": {
     "end_time": "2025-03-09T21:10:41.074604Z",
     "start_time": "2025-03-09T21:10:41.069800Z"
    }
   },
   "outputs": [],
   "source": [
    "def count_dna_counter(dna_string):\n",
    "    if str is None:\n",
    "        return \"Invalid string.\"\n",
    "    counts = Counter(dna_string.upper())\n",
    "    return f\"{counts.get('A',0)}  {counts.get('C',0)} {counts.get('G',0)} {counts.get('T',0)}\""
   ]
  },
  {
   "cell_type": "code",
   "outputs": [],
   "source": [
    "from utils import dna_utils"
   ],
   "metadata": {
    "collapsed": false,
    "ExecuteTime": {
     "end_time": "2025-03-09T21:55:25.069381Z",
     "start_time": "2025-03-09T21:55:25.061782Z"
    }
   },
   "execution_count": 38
  },
  {
   "cell_type": "code",
   "outputs": [
    {
     "name": "stdout",
     "output_type": "stream",
     "text": [
      "function count_dna_naive: time: 0.07390975952148438, dna_length: 853\n",
      "function count_dna_inbuilt: time: 0.06103515625, dna_length: 853\n",
      "function count_dna_counter: time: 0.06198883056640625, dna_length: 853\n"
     ]
    }
   ],
   "source": [
    "dna_string = dna_utils.read_dna_from_txt_file(\"../data/rosalind_dna.txt\")   \n",
    "print(dna_utils.benchmark(count_dna_naive, dna_string))\n",
    "print(dna_utils.benchmark(count_dna_inbuilt, dna_string))\n",
    "print(dna_utils.benchmark(count_dna_counter, dna_string))"
   ],
   "metadata": {
    "collapsed": false,
    "ExecuteTime": {
     "end_time": "2025-03-09T21:55:26.816493Z",
     "start_time": "2025-03-09T21:55:26.801616Z"
    }
   },
   "execution_count": 39
  },
  {
   "cell_type": "code",
   "outputs": [
    {
     "name": "stdout",
     "output_type": "stream",
     "text": [
      "function count_dna_naive: time: 0.9570121765136719, dna_length: 10000\n",
      "function count_dna_inbuilt: time: 0.11420249938964844, dna_length: 10000\n",
      "function count_dna_counter: time: 0.720977783203125, dna_length: 10000\n"
     ]
    }
   ],
   "source": [
    "dna_string = dna_utils.create_dna_string(10000)\n",
    "print(dna_utils.benchmark(count_dna_naive, dna_string))\n",
    "print(dna_utils.benchmark(count_dna_inbuilt, dna_string))\n",
    "print(dna_utils.benchmark(count_dna_counter, dna_string))"
   ],
   "metadata": {
    "collapsed": false,
    "ExecuteTime": {
     "end_time": "2025-03-09T21:18:15.843138Z",
     "start_time": "2025-03-09T21:18:15.831522Z"
    }
   },
   "execution_count": 29
  },
  {
   "cell_type": "code",
   "outputs": [
    {
     "name": "stdout",
     "output_type": "stream",
     "text": [
      "function count_dna_naive: time: 15.34581184387207, dna_length: 100000\n",
      "function count_dna_inbuilt: time: 1.1157989501953125, dna_length: 100000\n",
      "function count_dna_counter: time: 13.82303237915039, dna_length: 100000\n"
     ]
    }
   ],
   "source": [
    "dna_string = dna_utils.create_dna_string(100000)\n",
    "print(dna_utils.benchmark(count_dna_naive, dna_string))\n",
    "print(dna_utils.benchmark(count_dna_inbuilt, dna_string))\n",
    "print(dna_utils.benchmark(count_dna_counter, dna_string))"
   ],
   "metadata": {
    "collapsed": false,
    "ExecuteTime": {
     "end_time": "2025-03-09T21:18:33.850320Z",
     "start_time": "2025-03-09T21:18:33.726092Z"
    }
   },
   "execution_count": 30
  },
  {
   "cell_type": "markdown",
   "source": [
    "# Benchmark Results:\n",
    "## 1. Rosalind test DNA string (854 bases)\n",
    "    function count_dna_naive: time: 0.09393692016601562, dna_length: 854\n",
    "    function count_dna_inbuilt: time: 0.016689300537109375, dna_length: 854\n",
    "    function count_dna_counter: time: 0.06031990051269531, dna_length: 854\n",
    "## 2. Generated DNA string (10000 bases)\n",
    "    function count_dna_naive: time: 0.9570121765136719, dna_length: 10000\n",
    "    function count_dna_inbuilt: time: 0.11420249938964844, dna_length: 10000\n",
    "    function count_dna_counter: time: 0.720977783203125, dna_length: 10000\n",
    "## 3. Generated DNA string (100000 bases)\n",
    "    function count_dna_naive: time: 15.34581184387207, dna_length: 100000\n",
    "    function count_dna_inbuilt: time: 1.1157989501953125, dna_length: 100000\n",
    "    function count_dna_counter: time: 13.82303237915039, dna_length: 100000\n",
    "## 4. Generated DNA string (100000000 bases)\n",
    "    function count_dna_naive: time: 13549.36408996582, dna_length: 100000000\n",
    "    function count_dna_inbuilt: time: 1398.7159729003906, dna_length: 100000000\n",
    "    function count_dna_counter: time: 6434.010028839111, dna_length: 100000000\n",
    "## Result:\n",
    "count_dna_inbuilt >> count_dna_counter > count_dna_naive\n",
    "### Reasoning:\n",
    "Python string methods are implemented in C, and hence are much faster than a Python loop + if-else comparisons. \n",
    "For just four known possible characters, the overhead associated with Counter is not worth it."
   ],
   "metadata": {
    "collapsed": false
   }
  },
  {
   "cell_type": "code",
   "outputs": [],
   "source": [],
   "metadata": {
    "collapsed": false
   }
  }
 ],
 "metadata": {
  "kernelspec": {
   "display_name": "Python 3 (ipykernel)",
   "language": "python",
   "name": "python3"
  },
  "language_info": {
   "codemirror_mode": {
    "name": "ipython",
    "version": 3
   },
   "file_extension": ".py",
   "mimetype": "text/x-python",
   "name": "python",
   "nbconvert_exporter": "python",
   "pygments_lexer": "ipython3",
   "version": "3.11.0"
  }
 },
 "nbformat": 4,
 "nbformat_minor": 4
}
