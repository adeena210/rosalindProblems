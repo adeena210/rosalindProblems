{
 "cells": [
  {
   "cell_type": "markdown",
   "source": [
    "## [Counting DNA Nucleotides](https://rosalind.info/problems/dna/)"
   ],
   "metadata": {
    "collapsed": false
   },
   "id": "30311ef2a1c26dad"
  },
  {
   "cell_type": "code",
   "outputs": [],
   "source": [
    "def count_dna_naive(dna_string):\n",
    "    num_a = 0\n",
    "    num_g = 0\n",
    "    num_t = 0\n",
    "    num_c = 0\n",
    "    if dna_string is None:\n",
    "        return \"Invalid string.\"\n",
    "    dna_string = dna_string.upper()\n",
    "    for char in dna_string:\n",
    "        if char == \"A\":\n",
    "            num_a = num_a + 1\n",
    "        elif char == \"C\":\n",
    "            num_c = num_c + 1\n",
    "        elif char == \"G\":\n",
    "            num_g = num_g + 1\n",
    "        elif char == \"T\":\n",
    "            num_t = num_t + 1\n",
    "    return f\"{num_a} {num_c} {num_g} {num_t}\"\n"
   ],
   "metadata": {
    "collapsed": false,
    "ExecuteTime": {
     "end_time": "2025-03-10T01:14:09.809120Z",
     "start_time": "2025-03-10T01:14:09.781164Z"
    }
   },
   "id": "d0ad32b7417afc30",
   "execution_count": 17
  },
  {
   "cell_type": "code",
   "outputs": [],
   "source": [
    "def count_dna_inbuilt(dna_string):\n",
    "    if dna_string is None:\n",
    "        return \"Invalid string.\"\n",
    "    dna_string = dna_string.upper()\n",
    "    num_a = dna_string.count('A')\n",
    "    num_g = dna_string.count('G')\n",
    "    num_t = dna_string.count('T')\n",
    "    num_c = dna_string.count('C')\n",
    "    return f\"{num_a} {num_c} {num_g} {num_t}\""
   ],
   "metadata": {
    "collapsed": false,
    "ExecuteTime": {
     "end_time": "2025-03-10T01:14:14.410627Z",
     "start_time": "2025-03-10T01:14:14.406823Z"
    }
   },
   "id": "f04c1e9babd03b",
   "execution_count": 18
  },
  {
   "cell_type": "code",
   "outputs": [],
   "source": [
    "from collections import Counter"
   ],
   "metadata": {
    "collapsed": false,
    "ExecuteTime": {
     "end_time": "2025-03-10T01:14:19.846898Z",
     "start_time": "2025-03-10T01:14:19.843855Z"
    }
   },
   "id": "c2697f68d2a1860b",
   "execution_count": 19
  },
  {
   "cell_type": "code",
   "outputs": [],
   "source": [
    "def count_dna_counter(dna_string):\n",
    "    if str is None:\n",
    "        return \"Invalid string.\"\n",
    "    counts = Counter(dna_string.upper())\n",
    "    return f\"{counts.get('A',0)}  {counts.get('C',0)} {counts.get('G',0)} {counts.get('T',0)}\""
   ],
   "metadata": {
    "collapsed": false,
    "ExecuteTime": {
     "end_time": "2025-03-10T01:14:24.643992Z",
     "start_time": "2025-03-10T01:14:24.639562Z"
    }
   },
   "id": "433690766ac263ea",
   "execution_count": 20
  },
  {
   "cell_type": "code",
   "outputs": [],
   "source": [
    "from utils import dna_utils"
   ],
   "metadata": {
    "collapsed": false,
    "ExecuteTime": {
     "end_time": "2025-03-10T01:14:31.763704Z",
     "start_time": "2025-03-10T01:14:31.760644Z"
    }
   },
   "id": "707394c1ee4a423b",
   "execution_count": 21
  },
  {
   "cell_type": "code",
   "outputs": [
    {
     "name": "stdout",
     "output_type": "stream",
     "text": [
      "function count_dna_naive: time: 0.07390975952148438, dna_length: 853\n",
      "function count_dna_inbuilt: time: 0.0209808349609375, dna_length: 853\n",
      "function count_dna_counter: time: 0.06794929504394531, dna_length: 853\n"
     ]
    }
   ],
   "source": [
    "dna_string = dna_utils.read_dna_from_txt_file(\"../data/rosalind_dna.txt\")\n",
    "print(dna_utils.benchmark(count_dna_naive, dna_string))\n",
    "print(dna_utils.benchmark(count_dna_inbuilt, dna_string))\n",
    "print(dna_utils.benchmark(count_dna_counter, dna_string))"
   ],
   "metadata": {
    "collapsed": false,
    "ExecuteTime": {
     "end_time": "2025-03-10T01:14:37.617662Z",
     "start_time": "2025-03-10T01:14:37.612348Z"
    }
   },
   "id": "4944defe4dc8fea1",
   "execution_count": 22
  },
  {
   "cell_type": "code",
   "outputs": [
    {
     "name": "stdout",
     "output_type": "stream",
     "text": [
      "function count_dna_naive: time: 0.9610652923583984, dna_length: 10000\n",
      "function count_dna_inbuilt: time: 0.1437664031982422, dna_length: 10000\n",
      "function count_dna_counter: time: 0.6670951843261719, dna_length: 10000\n"
     ]
    }
   ],
   "source": [
    "dna_string = dna_utils.create_dna_string(10000)\n",
    "print(dna_utils.benchmark(count_dna_naive, dna_string))\n",
    "print(dna_utils.benchmark(count_dna_inbuilt, dna_string))\n",
    "print(dna_utils.benchmark(count_dna_counter, dna_string))"
   ],
   "metadata": {
    "collapsed": false,
    "ExecuteTime": {
     "end_time": "2025-03-10T01:14:43.960712Z",
     "start_time": "2025-03-10T01:14:43.947109Z"
    }
   },
   "id": "210db808bd57579f",
   "execution_count": 23
  },
  {
   "cell_type": "code",
   "outputs": [
    {
     "name": "stdout",
     "output_type": "stream",
     "text": [
      "function count_dna_naive: time: 14.810800552368164, dna_length: 100000\n",
      "function count_dna_inbuilt: time: 1.4200210571289062, dna_length: 100000\n",
      "function count_dna_counter: time: 11.194944381713867, dna_length: 100000\n"
     ]
    }
   ],
   "source": [
    "dna_string = dna_utils.create_dna_string(100000)\n",
    "print(dna_utils.benchmark(count_dna_naive, dna_string))\n",
    "print(dna_utils.benchmark(count_dna_inbuilt, dna_string))\n",
    "print(dna_utils.benchmark(count_dna_counter, dna_string))"
   ],
   "metadata": {
    "collapsed": false,
    "ExecuteTime": {
     "end_time": "2025-03-10T01:14:48.791955Z",
     "start_time": "2025-03-10T01:14:48.669561Z"
    }
   },
   "id": "426639ac031318d7",
   "execution_count": 24
  },
  {
   "cell_type": "markdown",
   "source": [
    "# Benchmark Results:\n",
    "## 1. Rosalind test DNA string (854 bases)\n",
    "    function count_dna_naive: time: 0.09393692016601562, dna_length: 854\n",
    "    function count_dna_inbuilt: time: 0.016689300537109375, dna_length: 854\n",
    "    function count_dna_counter: time: 0.06031990051269531, dna_length: 854\n",
    "## 2. Generated DNA string (10000 bases)\n",
    "    function count_dna_naive: time: 0.9570121765136719, dna_length: 10000\n",
    "    function count_dna_inbuilt: time: 0.11420249938964844, dna_length: 10000\n",
    "    function count_dna_counter: time: 0.720977783203125, dna_length: 10000\n",
    "## 3. Generated DNA string (100000 bases)\n",
    "    function count_dna_naive: time: 15.34581184387207, dna_length: 100000\n",
    "    function count_dna_inbuilt: time: 1.1157989501953125, dna_length: 100000\n",
    "    function count_dna_counter: time: 13.82303237915039, dna_length: 100000\n",
    "## 4. Generated DNA string (100000000 bases)\n",
    "    function count_dna_naive: time: 13549.36408996582, dna_length: 100000000\n",
    "    function count_dna_inbuilt: time: 1398.7159729003906, dna_length: 100000000\n",
    "    function count_dna_counter: time: 6434.010028839111, dna_length: 100000000\n",
    "## Result:\n",
    "- count_dna_inbuilt >> count_dna_counter > count_dna_naive\n",
    "### Reasoning:\n",
    "- Python string methods are implemented in C, and hence are much faster than a Python loop + if-else comparisons.\n",
    "- For just four known possible characters, the overhead associated with Counter is not worth it."
   ],
   "metadata": {
    "collapsed": false
   },
   "id": "e29b21c1ca3f33d3"
  }
 ],
 "metadata": {
  "kernelspec": {
   "display_name": "Python 3",
   "language": "python",
   "name": "python3"
  },
  "language_info": {
   "codemirror_mode": {
    "name": "ipython",
    "version": 2
   },
   "file_extension": ".py",
   "mimetype": "text/x-python",
   "name": "python",
   "nbconvert_exporter": "python",
   "pygments_lexer": "ipython2",
   "version": "2.7.6"
  }
 },
 "nbformat": 4,
 "nbformat_minor": 5
}
